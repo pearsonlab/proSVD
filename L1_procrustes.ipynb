{
 "cells": [
  {
   "cell_type": "code",
   "execution_count": 1,
   "metadata": {},
   "outputs": [],
   "source": [
    "import numpy as np\n",
    "import matplotlib.pyplot as plt\n",
    "from scipy.sparse import random as random_sparse"
   ]
  },
  {
   "cell_type": "code",
   "execution_count": 2,
   "metadata": {},
   "outputs": [],
   "source": [
    "# implementing l1 procrustes loss with irls/weighted majorization\n",
    "# from https://link.springer.com/chapter/10.1007%2F3-540-27373-5_18\n",
    "\n",
    "# Finding T which minimizes sum i,j abs(e_i,j), where E = Y - XT\n",
    "# init T = I\n",
    "def l1proc_min(X, Y, num_iters):\n",
    "    n, k = X.shape\n",
    "    T_0 = np.identity(k)\n",
    "    err = np.zeros((num_iters))\n",
    "    \n",
    "    for curr_it in range(num_iters):\n",
    "        E_0 = (Y - X.dot(T_0)) # + np.random.normal(loc=.001, scale=.01, size=(Y.shape))\n",
    "        if np.any(E_0 == 0):\n",
    "            print('0 err on iter ' + str(curr_it) + '! Stopping')\n",
    "            return T, err\n",
    "        W = 1 / np.abs(E_0) \n",
    "    \n",
    "        err[curr_it] = np.abs(E_0).sum()\n",
    "    \n",
    "        D_m = np.diag(W.max(axis=1))   \n",
    "#         infloc = np.where(D_m == np.inf)  # replacing 0 error terms with max of non-inf nums\n",
    "#         tmp = np.copy(D_m)\n",
    "#         tmp[tmp == np.inf] = 0\n",
    "#         D_m[infloc] = np.min(tmp)\n",
    "        \n",
    "        weight = np.divide(W, W.max(axis=1).reshape((n,1)))\n",
    "        weight[np.isnan(weight)] = 0\n",
    "        R = np.multiply((1 - weight), X.dot(T_0)) + np.multiply(weight, Y)\n",
    "        \n",
    "        S = np.dot(np.dot(np.transpose(X), D_m), R)\n",
    "        U, sig, V_T = np.linalg.svd(S)\n",
    "        T = U.dot(V_T)\n",
    "        E = Y - X.dot(T)\n",
    "#         T[:, infloc[1]] = T_0[:, infloc[1]]\n",
    "#         if np.shape(infloc)[1] > 0:\n",
    "#             print(T - T_true)\n",
    "        T_0 = T\n",
    "\n",
    "    return T, err\n",
    "\n",
    "# Orthogonal procrustes l2\n",
    "def l2proc_min(X, Y):\n",
    "    M = X.T.dot(Y)\n",
    "    U, S, V_T = np.linalg.svd(M)\n",
    "    T = U.dot(V_T)\n",
    "    return T"
   ]
  },
  {
   "cell_type": "code",
   "execution_count": 3,
   "metadata": {},
   "outputs": [
    {
     "name": "stdout",
     "output_type": "stream",
     "text": [
      "0 err on iter 69! Stopping\n"
     ]
    },
    {
     "data": {
      "image/png": "[encoded data removed]",
      "text/plain": [
       "<Figure size 432x288 with 2 Axes>"
      ]
     },
     "metadata": {
      "needs_background": "light"
     },
     "output_type": "display_data"
    },
    {
     "data": {
      "image/png": "[encoded data removed]",
      "text/plain": [
       "<Figure size 432x288 with 6 Axes>"
      ]
     },
     "metadata": {
      "needs_background": "light"
     },
     "output_type": "display_data"
    },
    {
     "data": {
      "image/png": "[encoded data removed]",
      "text/plain": [
       "<Figure size 432x288 with 4 Axes>"
      ]
     },
     "metadata": {
      "needs_background": "light"
     },
     "output_type": "display_data"
    },
    {
     "name": "stdout",
     "output_type": "stream",
     "text": [
      "218.06224989495652 135.8579412371496\n"
     ]
    }
   ],
   "source": [
    "# Testing with a sparse T\n",
    "n, k = 10, 10\n",
    "\n",
    "X = np.random.uniform(-5, 5, size=(n, k))\n",
    "sparse = random_sparse(k, k, density=1/k)\n",
    "# T_true, R = np.linalg.qr(sparse.A)  # make T_true orthogonal\n",
    "T_true = sparse.A\n",
    "Y = X.dot(T_true)\n",
    "\n",
    "T_l1, err = l1proc_min(X, Y, num_iters=10000)\n",
    "E_l1 = Y - X.dot(T_l1)\n",
    "\n",
    "T_l2 = l2proc_min(X, Y)\n",
    "E_l2 = Y - X.dot(T_l2)\n",
    "\n",
    "# plotting\n",
    "fig, ax = plt.subplots(2, 1, sharex=True)\n",
    "ax[0].plot(err)\n",
    "ax[0].set(ylabel='error (sum abs (E))')\n",
    "ax[1].plot(err[1:] - err[:-1])\n",
    "ax[1].set(xlabel='iter', ylabel='change in error')\n",
    "\n",
    "fig, ax = plt.subplots(1, 3, sharey=True)\n",
    "im = ax[0].imshow(T_true)\n",
    "fig.colorbar(im, ax=ax[0])\n",
    "im = ax[1].imshow(T_l1)\n",
    "fig.colorbar(im, ax=ax[1])\n",
    "im = ax[2].imshow(T_l2)\n",
    "fig.colorbar(im, ax=ax[2])\n",
    "ax[0].set(title='T_true')\n",
    "ax[1].set(title='T_l1')\n",
    "ax[2].set(title='T_l2')\n",
    "\n",
    "fig, ax = plt.subplots(1, 2)\n",
    "im = ax[0].imshow(E_l1)\n",
    "fig.colorbar(im, ax=ax[0])\n",
    "im = ax[1].imshow(E_l2)\n",
    "fig.colorbar(im, ax=ax[1])\n",
    "plt.show()\n",
    "\n",
    "print(np.abs(E_l1).sum(), np.abs(E_l2).sum())"
   ]
  },
  {
   "cell_type": "code",
   "execution_count": null,
   "metadata": {},
   "outputs": [],
   "source": []
  }
 ],
 "metadata": {
  "kernelspec": {
   "display_name": "Python 3",
   "language": "python",
   "name": "python3"
  },
  "language_info": {
   "codemirror_mode": {
    "name": "ipython",
    "version": 3
   },
   "file_extension": ".py",
   "mimetype": "text/x-python",
   "name": "python",
   "nbconvert_exporter": "python",
   "pygments_lexer": "ipython3",
   "version": "3.7.3"
  }
 },
 "nbformat": 4,
 "nbformat_minor": 4
}
