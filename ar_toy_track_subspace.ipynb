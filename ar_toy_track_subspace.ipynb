{
 "cells": [
  {
   "cell_type": "code",
   "execution_count": 1,
   "metadata": {},
   "outputs": [],
   "source": [
    "import numpy as np\n",
    "import matplotlib.pyplot as plt\n",
    "%matplotlib inline\n",
    "import testStreamingSvd\n",
    "import streamingSvd as algo"
   ]
  },
  {
   "cell_type": "code",
   "execution_count": 2,
   "metadata": {},
   "outputs": [],
   "source": [
    "# generate scalar AR(p) data\n",
    "def generateARp(x_init, coeffs, num_steps, noise=0):\n",
    "    p = x_init.shape[0]\n",
    "    xs = np.append(x_init, np.zeros((num_steps)))\n",
    "    for t in range(num_steps):\n",
    "        eps = np.random.normal(loc=0, scale=noise)\n",
    "        xs[t+p] = np.dot(coeffs, xs[t:t+p]) + eps\n",
    "    return xs\n",
    "\n",
    "\n",
    "# generate vector AR(1) data, init with last column of xs\n",
    "def generateVAR1(xs, A, num_steps, noise=0):\n",
    "    n, t = xs.shape\n",
    "    xs = np.append(xs, np.zeros((n, num_steps)), axis=1)\n",
    "    for curr_step in range(t, t+num_steps):\n",
    "        eps = np.random.normal(loc=0, scale=noise, size=n)\n",
    "        xs[:, curr_step] = np.dot(A, xs[:, curr_step-1]) + eps\n",
    "    return xs\n",
    "\n",
    "\n",
    "# get stable (stationary) coeffs for VAR(1) - max eigval < 1\n",
    "def get_stable_A(n, low=0, upp=2):\n",
    "    unstable = True\n",
    "    while unstable:\n",
    "        A = np.random.uniform(low, upp, size=(n,n))\n",
    "        evals, _ = np.linalg.eig(A)\n",
    "        if np.max(np.abs(evals)) < 1:\n",
    "            unstable = False\n",
    "    return A\n",
    "\n",
    "\n",
    "# rotate 3x3 matrix around x axis by angle theta\n",
    "def rotate_3dx(A, theta):\n",
    "    rot = np.array([[1, 0, 0], \n",
    "                    [0, np.cos(theta), -np.sin(theta)], \n",
    "                    [0, np.sin(theta), np.cos(theta)]])\n",
    "    return np.dot(rot, A)"
   ]
  },
  {
   "cell_type": "code",
   "execution_count": 40,
   "metadata": {},
   "outputs": [
    {
     "data": {
      "text/plain": [
       "<matplotlib.lines.Line2D at 0x22d97cdcc50>"
      ]
     },
     "execution_count": 40,
     "metadata": {},
     "output_type": "execute_result"
    },
    {
     "data": {
      "image/png": "[encoded data removed]",
      "text/plain": [
       "<matplotlib.figure.Figure at 0x22d97cdccc0>"
      ]
     },
     "metadata": {},
     "output_type": "display_data"
    }
   ],
   "source": [
    "n = 3\n",
    "numsteps1 = 100\n",
    "numsteps2 = 1000\n",
    "sigma = 1\n",
    "\n",
    "# A1 almost diagonal, 0 out last entry\n",
    "A1 = np.diag(np.random.uniform(0, 1, size=n))\n",
    "A1[n-1, n-1] = 0\n",
    "x_init = np.random.uniform(-1, 1, size=(n, 1))\n",
    "xs = generateVAR1(x_init, A1, numsteps1, noise=sigma)\n",
    "\n",
    "# nice oscillations\n",
    "A2 = np.array([\n",
    "       [ 0.9767596 , -0.28857368,  0.4491203 ],\n",
    "       [ 0.97991711,  0.49943434,  0.32865101],\n",
    "       [ 0.59191832, -0.16951207,  0.57953176]])\n",
    "# A2 = get_stable_A(n)\n",
    "xs = generateVAR1(xs, A2, numsteps2, noise=sigma)\n",
    "\n",
    "plt.plot(xs.T)\n",
    "plt.axvline(numsteps1, color='k')"
   ]
  },
  {
   "cell_type": "code",
   "execution_count": 41,
   "metadata": {},
   "outputs": [
    {
     "name": "stdout",
     "output_type": "stream",
     "text": [
      "[12.2064953  10.23071518  8.60589872]\n",
      "[1551.19179981  309.88712948  155.97683665]\n"
     ]
    }
   ],
   "source": [
    "# variance\n",
    "_, S1, _ = np.linalg.svd(xs[:, :100])\n",
    "_, S2, _ = np.linalg.svd(xs)\n",
    "print(S1)\n",
    "print(S2)"
   ]
  },
  {
   "cell_type": "code",
   "execution_count": 42,
   "metadata": {},
   "outputs": [
    {
     "name": "stdout",
     "output_type": "stream",
     "text": [
      "True (rotated) Qs: \n",
      "[[-0.55768543  0.66146062  0.50145469]\n",
      " [ 0.00824696 -0.59967887  0.80019825]\n",
      " [ 0.83001141  0.45039438  0.32897713]] \n",
      "--\n",
      "[[ 0.29359664  0.37917138 -0.87751358]\n",
      " [ 0.41249931 -0.87835705 -0.24152269]\n",
      " [-0.86234873 -0.29106349 -0.41429061]] \n",
      "\n",
      "Tracked Qs:\n",
      "[[-0.40509946  0.88081476  0.24507097]\n",
      " [-0.77248663 -0.18637238 -0.6070665 ]\n",
      " [-0.48903867 -0.43523636  0.75591698]] \n",
      "--\n",
      "[[-0.40509946  0.88081476  0.24507097]\n",
      " [-0.77248663 -0.18637238 -0.6070665 ]\n",
      " [-0.48903867 -0.43523636  0.75591698]]\n"
     ]
    }
   ],
   "source": [
    "# streaming svd Qs\n",
    "# init with l1=3 cols, add l=1 cols at a time for 100 iters\n",
    "Q1true, Q1 = algo.getSvd(xs, k=n, l1=3, l=1, num_iter=100, decay_alpha=.9)\n",
    "\n",
    "# add l=1 cols at a time for 1100 iters\n",
    "Q2true, Q2 = algo.getSvd(xs, k=n, l1=3, l=1, num_iter=1100, decay_alpha=.9)\n",
    "\n",
    "print('True (rotated) Qs: ')\n",
    "print(Q1true, '\\n--')\n",
    "print(Q2true, '\\n')\n",
    "\n",
    "print('Tracked Qs:')\n",
    "print(q1, '\\n--')\n",
    "print(q2)"
   ]
  },
  {
   "cell_type": "code",
   "execution_count": 46,
   "metadata": {},
   "outputs": [
    {
     "name": "stdout",
     "output_type": "stream",
     "text": [
      "[[-0.47135119 -0.73944964  0.48066857]\n",
      " [-0.27166166 -0.39677984 -0.87679285]\n",
      " [ 0.83906376 -0.54385658 -0.01385747]]\n",
      "--------------\n",
      "[[ 0.30323892 -0.75231572  0.58486512]\n",
      " [ 0.88217578  0.45369459  0.12620268]\n",
      " [-0.3602944   0.47768428  0.80125256]]\n",
      "\n",
      "-------------\n",
      "\n",
      "[[-0.18380585  0.43195097  0.88296872]\n",
      " [-0.66562701 -0.7156734   0.21154733]\n",
      " [ 0.7232953  -0.54884419  0.41906319]]\n",
      "-------------\n",
      "[[-0.18380585  0.43195097  0.88296872]\n",
      " [-0.66562701 -0.7156734   0.21154733]\n",
      " [ 0.7232953  -0.54884419  0.41906319]]\n"
     ]
    }
   ],
   "source": [
    "U,S,V = np.linalg.svd(xs)\n",
    "print(U)\n",
    "print('--------------')\n",
    "Qtrue, Q = algo.getSvd(xs, xs.shape[0], 5, 5, 250, decay_alpha=.9)\n",
    "print(Qtrue)\n",
    "\n",
    "print('\\n-------------\\n')\n",
    "\n",
    "Q, Q_est = algo.getSvd(xs, k=3, l1=4, l=1, num_iter=96)\n",
    "print(Q_est)\n",
    "print('-------------')\n",
    "Q, Q_est = algo.getSvd(xs, k=3, l1=10, l=1, num_iter=250)\n",
    "print(Q_est)"
   ]
  },
  {
   "cell_type": "code",
   "execution_count": null,
   "metadata": {},
   "outputs": [],
   "source": []
  }
 ],
 "metadata": {
  "kernelspec": {
   "display_name": "Python 3",
   "language": "python",
   "name": "python3"
  },
  "language_info": {
   "codemirror_mode": {
    "name": "ipython",
    "version": 3
   },
   "file_extension": ".py",
   "mimetype": "text/x-python",
   "name": "python",
   "nbconvert_exporter": "python",
   "pygments_lexer": "ipython3",
   "version": "3.6.7"
  }
 },
 "nbformat": 4,
 "nbformat_minor": 2
}
